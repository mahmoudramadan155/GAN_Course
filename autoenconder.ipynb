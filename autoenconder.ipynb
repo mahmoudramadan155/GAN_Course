{
  "nbformat": 4,
  "nbformat_minor": 0,
  "metadata": {
    "colab": {
      "name": "autoenconder.ipynb",
      "provenance": [],
      "machine_shape": "hm",
      "authorship_tag": "ABX9TyObJm1hwhFa8Uuv5bG4S2nI",
      "include_colab_link": true
    },
    "kernelspec": {
      "name": "python3",
      "display_name": "Python 3"
    },
    "language_info": {
      "name": "python"
    },
    "accelerator": "GPU",
    "widgets": {
      "application/vnd.jupyter.widget-state+json": {
        "19d2c74fb61c458cae9ed2fd9bdf1345": {
          "model_module": "@jupyter-widgets/controls",
          "model_name": "HBoxModel",
          "model_module_version": "1.5.0",
          "state": {
            "_view_name": "HBoxView",
            "_dom_classes": [],
            "_model_name": "HBoxModel",
            "_view_module": "@jupyter-widgets/controls",
            "_model_module_version": "1.5.0",
            "_view_count": null,
            "_view_module_version": "1.5.0",
            "box_style": "",
            "layout": "IPY_MODEL_9ca888d263964abe88f47f123529effb",
            "_model_module": "@jupyter-widgets/controls",
            "children": [
              "IPY_MODEL_8580439322cf4250a2402df4ffb35154",
              "IPY_MODEL_273613069a6749208b3b8f00c43519d9",
              "IPY_MODEL_0bc8a6b1786e4099becab9727743d3e2"
            ]
          }
        },
        "9ca888d263964abe88f47f123529effb": {
          "model_module": "@jupyter-widgets/base",
          "model_name": "LayoutModel",
          "model_module_version": "1.2.0",
          "state": {
            "_view_name": "LayoutView",
            "grid_template_rows": null,
            "right": null,
            "justify_content": null,
            "_view_module": "@jupyter-widgets/base",
            "overflow": null,
            "_model_module_version": "1.2.0",
            "_view_count": null,
            "flex_flow": null,
            "width": null,
            "min_width": null,
            "border": null,
            "align_items": null,
            "bottom": null,
            "_model_module": "@jupyter-widgets/base",
            "top": null,
            "grid_column": null,
            "overflow_y": null,
            "overflow_x": null,
            "grid_auto_flow": null,
            "grid_area": null,
            "grid_template_columns": null,
            "flex": null,
            "_model_name": "LayoutModel",
            "justify_items": null,
            "grid_row": null,
            "max_height": null,
            "align_content": null,
            "visibility": null,
            "align_self": null,
            "height": null,
            "min_height": null,
            "padding": null,
            "grid_auto_rows": null,
            "grid_gap": null,
            "max_width": null,
            "order": null,
            "_view_module_version": "1.2.0",
            "grid_template_areas": null,
            "object_position": null,
            "object_fit": null,
            "grid_auto_columns": null,
            "margin": null,
            "display": null,
            "left": null
          }
        },
        "8580439322cf4250a2402df4ffb35154": {
          "model_module": "@jupyter-widgets/controls",
          "model_name": "HTMLModel",
          "model_module_version": "1.5.0",
          "state": {
            "_view_name": "HTMLView",
            "style": "IPY_MODEL_5201db654c064f7d85465e04af0de735",
            "_dom_classes": [],
            "description": "",
            "_model_name": "HTMLModel",
            "placeholder": "​",
            "_view_module": "@jupyter-widgets/controls",
            "_model_module_version": "1.5.0",
            "value": "Dl Completed...: 100%",
            "_view_count": null,
            "_view_module_version": "1.5.0",
            "description_tooltip": null,
            "_model_module": "@jupyter-widgets/controls",
            "layout": "IPY_MODEL_8aef9beb49a54147813a0a119ea71307"
          }
        },
        "273613069a6749208b3b8f00c43519d9": {
          "model_module": "@jupyter-widgets/controls",
          "model_name": "FloatProgressModel",
          "model_module_version": "1.5.0",
          "state": {
            "_view_name": "ProgressView",
            "style": "IPY_MODEL_64c06636307b4c0fb0ad024c13763578",
            "_dom_classes": [],
            "description": "",
            "_model_name": "FloatProgressModel",
            "bar_style": "success",
            "max": 4,
            "_view_module": "@jupyter-widgets/controls",
            "_model_module_version": "1.5.0",
            "value": 4,
            "_view_count": null,
            "_view_module_version": "1.5.0",
            "orientation": "horizontal",
            "min": 0,
            "description_tooltip": null,
            "_model_module": "@jupyter-widgets/controls",
            "layout": "IPY_MODEL_ceec0cbbb9ed4b07b4a81448588a2581"
          }
        },
        "0bc8a6b1786e4099becab9727743d3e2": {
          "model_module": "@jupyter-widgets/controls",
          "model_name": "HTMLModel",
          "model_module_version": "1.5.0",
          "state": {
            "_view_name": "HTMLView",
            "style": "IPY_MODEL_ebb9d604372b414894c0d6b84e0abccc",
            "_dom_classes": [],
            "description": "",
            "_model_name": "HTMLModel",
            "placeholder": "​",
            "_view_module": "@jupyter-widgets/controls",
            "_model_module_version": "1.5.0",
            "value": " 4/4 [00:00&lt;00:00,  6.56 file/s]",
            "_view_count": null,
            "_view_module_version": "1.5.0",
            "description_tooltip": null,
            "_model_module": "@jupyter-widgets/controls",
            "layout": "IPY_MODEL_0090a106fe5040eea057c80128aa239c"
          }
        },
        "5201db654c064f7d85465e04af0de735": {
          "model_module": "@jupyter-widgets/controls",
          "model_name": "DescriptionStyleModel",
          "model_module_version": "1.5.0",
          "state": {
            "_view_name": "StyleView",
            "_model_name": "DescriptionStyleModel",
            "description_width": "",
            "_view_module": "@jupyter-widgets/base",
            "_model_module_version": "1.5.0",
            "_view_count": null,
            "_view_module_version": "1.2.0",
            "_model_module": "@jupyter-widgets/controls"
          }
        },
        "8aef9beb49a54147813a0a119ea71307": {
          "model_module": "@jupyter-widgets/base",
          "model_name": "LayoutModel",
          "model_module_version": "1.2.0",
          "state": {
            "_view_name": "LayoutView",
            "grid_template_rows": null,
            "right": null,
            "justify_content": null,
            "_view_module": "@jupyter-widgets/base",
            "overflow": null,
            "_model_module_version": "1.2.0",
            "_view_count": null,
            "flex_flow": null,
            "width": null,
            "min_width": null,
            "border": null,
            "align_items": null,
            "bottom": null,
            "_model_module": "@jupyter-widgets/base",
            "top": null,
            "grid_column": null,
            "overflow_y": null,
            "overflow_x": null,
            "grid_auto_flow": null,
            "grid_area": null,
            "grid_template_columns": null,
            "flex": null,
            "_model_name": "LayoutModel",
            "justify_items": null,
            "grid_row": null,
            "max_height": null,
            "align_content": null,
            "visibility": null,
            "align_self": null,
            "height": null,
            "min_height": null,
            "padding": null,
            "grid_auto_rows": null,
            "grid_gap": null,
            "max_width": null,
            "order": null,
            "_view_module_version": "1.2.0",
            "grid_template_areas": null,
            "object_position": null,
            "object_fit": null,
            "grid_auto_columns": null,
            "margin": null,
            "display": null,
            "left": null
          }
        },
        "64c06636307b4c0fb0ad024c13763578": {
          "model_module": "@jupyter-widgets/controls",
          "model_name": "ProgressStyleModel",
          "model_module_version": "1.5.0",
          "state": {
            "_view_name": "StyleView",
            "_model_name": "ProgressStyleModel",
            "description_width": "",
            "_view_module": "@jupyter-widgets/base",
            "_model_module_version": "1.5.0",
            "_view_count": null,
            "_view_module_version": "1.2.0",
            "bar_color": null,
            "_model_module": "@jupyter-widgets/controls"
          }
        },
        "ceec0cbbb9ed4b07b4a81448588a2581": {
          "model_module": "@jupyter-widgets/base",
          "model_name": "LayoutModel",
          "model_module_version": "1.2.0",
          "state": {
            "_view_name": "LayoutView",
            "grid_template_rows": null,
            "right": null,
            "justify_content": null,
            "_view_module": "@jupyter-widgets/base",
            "overflow": null,
            "_model_module_version": "1.2.0",
            "_view_count": null,
            "flex_flow": null,
            "width": null,
            "min_width": null,
            "border": null,
            "align_items": null,
            "bottom": null,
            "_model_module": "@jupyter-widgets/base",
            "top": null,
            "grid_column": null,
            "overflow_y": null,
            "overflow_x": null,
            "grid_auto_flow": null,
            "grid_area": null,
            "grid_template_columns": null,
            "flex": null,
            "_model_name": "LayoutModel",
            "justify_items": null,
            "grid_row": null,
            "max_height": null,
            "align_content": null,
            "visibility": null,
            "align_self": null,
            "height": null,
            "min_height": null,
            "padding": null,
            "grid_auto_rows": null,
            "grid_gap": null,
            "max_width": null,
            "order": null,
            "_view_module_version": "1.2.0",
            "grid_template_areas": null,
            "object_position": null,
            "object_fit": null,
            "grid_auto_columns": null,
            "margin": null,
            "display": null,
            "left": null
          }
        },
        "ebb9d604372b414894c0d6b84e0abccc": {
          "model_module": "@jupyter-widgets/controls",
          "model_name": "DescriptionStyleModel",
          "model_module_version": "1.5.0",
          "state": {
            "_view_name": "StyleView",
            "_model_name": "DescriptionStyleModel",
            "description_width": "",
            "_view_module": "@jupyter-widgets/base",
            "_model_module_version": "1.5.0",
            "_view_count": null,
            "_view_module_version": "1.2.0",
            "_model_module": "@jupyter-widgets/controls"
          }
        },
        "0090a106fe5040eea057c80128aa239c": {
          "model_module": "@jupyter-widgets/base",
          "model_name": "LayoutModel",
          "model_module_version": "1.2.0",
          "state": {
            "_view_name": "LayoutView",
            "grid_template_rows": null,
            "right": null,
            "justify_content": null,
            "_view_module": "@jupyter-widgets/base",
            "overflow": null,
            "_model_module_version": "1.2.0",
            "_view_count": null,
            "flex_flow": null,
            "width": null,
            "min_width": null,
            "border": null,
            "align_items": null,
            "bottom": null,
            "_model_module": "@jupyter-widgets/base",
            "top": null,
            "grid_column": null,
            "overflow_y": null,
            "overflow_x": null,
            "grid_auto_flow": null,
            "grid_area": null,
            "grid_template_columns": null,
            "flex": null,
            "_model_name": "LayoutModel",
            "justify_items": null,
            "grid_row": null,
            "max_height": null,
            "align_content": null,
            "visibility": null,
            "align_self": null,
            "height": null,
            "min_height": null,
            "padding": null,
            "grid_auto_rows": null,
            "grid_gap": null,
            "max_width": null,
            "order": null,
            "_view_module_version": "1.2.0",
            "grid_template_areas": null,
            "object_position": null,
            "object_fit": null,
            "grid_auto_columns": null,
            "margin": null,
            "display": null,
            "left": null
          }
        }
      }
    }
  },
  "cells": [
    {
      "cell_type": "markdown",
      "metadata": {
        "id": "view-in-github",
        "colab_type": "text"
      },
      "source": [
        "<a href=\"https://colab.research.google.com/github/ahmedhisham73/generative-modeling-using-tensorflow/blob/main/autoenconder.ipynb\" target=\"_parent\"><img src=\"https://colab.research.google.com/assets/colab-badge.svg\" alt=\"Open In Colab\"/></a>"
      ]
    },
    {
      "cell_type": "code",
      "metadata": {
        "id": "XWLbz38ALuxz"
      },
      "source": [
        "import tensorflow as tf\n",
        "from tensorflow import keras\n",
        "\n",
        "import numpy as np\n",
        "import matplotlib.pyplot as plt\n",
        "\n",
        "%matplotlib inline"
      ],
      "execution_count": 1,
      "outputs": []
    },
    {
      "cell_type": "code",
      "metadata": {
        "id": "rhelyDOSMBdX"
      },
      "source": [
        "def generate_data(m):\n",
        "    '''plots m random points on a 3D plane'''\n",
        "\n",
        "    angles = np.random.rand(m) * 3 * np.pi / 2 - 0.5\n",
        "    data = np.empty((m, 3))\n",
        "    data[:,0] = np.cos(angles) + np.sin(angles)/2 + 0.1 * np.random.randn(m)/2\n",
        "    data[:,1] = np.sin(angles) * 0.7 + 0.1 * np.random.randn(m) / 2\n",
        "    data[:,2] = data[:, 0] * 0.1 + data[:, 1] * 0.3 + 0.1 * np.random.randn(m)\n",
        "    \n",
        "    return data"
      ],
      "execution_count": 2,
      "outputs": []
    },
    {
      "cell_type": "code",
      "metadata": {
        "colab": {
          "base_uri": "https://localhost:8080/",
          "height": 248
        },
        "id": "aDEGlROoMFTn",
        "outputId": "2939705b-666f-43e1-b06e-375857881e3e"
      },
      "source": [
        "# use the function above to generate data points\n",
        "X_train = generate_data(100)\n",
        "X_train = X_train - X_train.mean(axis=0, keepdims=0)\n",
        "\n",
        "# preview the data\n",
        "ax = plt.axes(projection='3d')\n",
        "ax.scatter3D(X_train[:, 0], X_train[:, 1], X_train[:, 2], cmap='Reds');\n"
      ],
      "execution_count": 3,
      "outputs": [
        {
          "output_type": "display_data",
          "data": {
            "image/png": "[encoded data removed]",
            "text/plain": [
              "<Figure size 432x288 with 1 Axes>"
            ]
          },
          "metadata": {
            "needs_background": "light"
          }
        }
      ]
    },
    {
      "cell_type": "code",
      "metadata": {
        "id": "-1CPV14GMKTF"
      },
      "source": [
        "encoder = keras.models.Sequential([keras.layers.Dense(2, input_shape=[3])])\n",
        "decoder = keras.models.Sequential([keras.layers.Dense(3, input_shape=[2])])\n",
        "\n",
        "autoencoder = keras.models.Sequential([encoder, decoder])"
      ],
      "execution_count": 4,
      "outputs": []
    },
    {
      "cell_type": "code",
      "metadata": {
        "colab": {
          "base_uri": "https://localhost:8080/"
        },
        "id": "uso_udeHMO58",
        "outputId": "0bc1258f-5028-48a8-c6b6-28ad1e15641c"
      },
      "source": [
        "autoencoder.compile(loss=\"mse\", optimizer=keras.optimizers.SGD(lr=0.1))"
      ],
      "execution_count": 5,
      "outputs": [
        {
          "output_type": "stream",
          "name": "stderr",
          "text": [
            "/usr/local/lib/python3.7/dist-packages/keras/optimizer_v2/gradient_descent.py:102: UserWarning: The `lr` argument is deprecated, use `learning_rate` instead.\n",
            "  super(SGD, self).__init__(name, **kwargs)\n"
          ]
        }
      ]
    },
    {
      "cell_type": "code",
      "metadata": {
        "colab": {
          "base_uri": "https://localhost:8080/"
        },
        "id": "sTxPs0IiMSPe",
        "outputId": "e9d3d338-203f-4c4c-e38f-40fc72d6fe75"
      },
      "source": [
        "history = autoencoder.fit(X_train, X_train, epochs=200)"
      ],
      "execution_count": 6,
      "outputs": [
        {
          "output_type": "stream",
          "name": "stdout",
          "text": [
            "Epoch 1/200\n",
            "4/4 [==============================] - 2s 3ms/step - loss: 0.0995\n",
            "Epoch 2/200\n",
            "4/4 [==============================] - 0s 2ms/step - loss: 0.0798\n",
            "Epoch 3/200\n",
            "4/4 [==============================] - 0s 2ms/step - loss: 0.0659\n",
            "Epoch 4/200\n",
            "4/4 [==============================] - 0s 2ms/step - loss: 0.0609\n",
            "Epoch 5/200\n",
            "4/4 [==============================] - 0s 2ms/step - loss: 0.0566\n",
            "Epoch 6/200\n",
            "4/4 [==============================] - 0s 2ms/step - loss: 0.0530\n",
            "Epoch 7/200\n",
            "4/4 [==============================] - 0s 2ms/step - loss: 0.0501\n",
            "Epoch 8/200\n",
            "4/4 [==============================] - 0s 2ms/step - loss: 0.0481\n",
            "Epoch 9/200\n",
            "4/4 [==============================] - 0s 2ms/step - loss: 0.0458\n",
            "Epoch 10/200\n",
            "4/4 [==============================] - 0s 2ms/step - loss: 0.0437\n",
            "Epoch 11/200\n",
            "4/4 [==============================] - 0s 2ms/step - loss: 0.0419\n",
            "Epoch 12/200\n",
            "4/4 [==============================] - 0s 2ms/step - loss: 0.0405\n",
            "Epoch 13/200\n",
            "4/4 [==============================] - 0s 2ms/step - loss: 0.0391\n",
            "Epoch 14/200\n",
            "4/4 [==============================] - 0s 2ms/step - loss: 0.0373\n",
            "Epoch 15/200\n",
            "4/4 [==============================] - 0s 2ms/step - loss: 0.0357\n",
            "Epoch 16/200\n",
            "4/4 [==============================] - 0s 2ms/step - loss: 0.0347\n",
            "Epoch 17/200\n",
            "4/4 [==============================] - 0s 2ms/step - loss: 0.0332\n",
            "Epoch 18/200\n",
            "4/4 [==============================] - 0s 2ms/step - loss: 0.0321\n",
            "Epoch 19/200\n",
            "4/4 [==============================] - 0s 2ms/step - loss: 0.0307\n",
            "Epoch 20/200\n",
            "4/4 [==============================] - 0s 3ms/step - loss: 0.0299\n",
            "Epoch 21/200\n",
            "4/4 [==============================] - 0s 3ms/step - loss: 0.0288\n",
            "Epoch 22/200\n",
            "4/4 [==============================] - 0s 3ms/step - loss: 0.0277\n",
            "Epoch 23/200\n",
            "4/4 [==============================] - 0s 2ms/step - loss: 0.0265\n",
            "Epoch 24/200\n",
            "4/4 [==============================] - 0s 2ms/step - loss: 0.0256\n",
            "Epoch 25/200\n",
            "4/4 [==============================] - 0s 3ms/step - loss: 0.0245\n",
            "Epoch 26/200\n",
            "4/4 [==============================] - 0s 2ms/step - loss: 0.0236\n",
            "Epoch 27/200\n",
            "4/4 [==============================] - 0s 2ms/step - loss: 0.0228\n",
            "Epoch 28/200\n",
            "4/4 [==============================] - 0s 2ms/step - loss: 0.0220\n",
            "Epoch 29/200\n",
            "4/4 [==============================] - 0s 2ms/step - loss: 0.0211\n",
            "Epoch 30/200\n",
            "4/4 [==============================] - 0s 2ms/step - loss: 0.0202\n",
            "Epoch 31/200\n",
            "4/4 [==============================] - 0s 2ms/step - loss: 0.0193\n",
            "Epoch 32/200\n",
            "4/4 [==============================] - 0s 2ms/step - loss: 0.0184\n",
            "Epoch 33/200\n",
            "4/4 [==============================] - 0s 2ms/step - loss: 0.0175\n",
            "Epoch 34/200\n",
            "4/4 [==============================] - 0s 2ms/step - loss: 0.0168\n",
            "Epoch 35/200\n",
            "4/4 [==============================] - 0s 2ms/step - loss: 0.0161\n",
            "Epoch 36/200\n",
            "4/4 [==============================] - 0s 3ms/step - loss: 0.0155\n",
            "Epoch 37/200\n",
            "4/4 [==============================] - 0s 3ms/step - loss: 0.0148\n",
            "Epoch 38/200\n",
            "4/4 [==============================] - 0s 3ms/step - loss: 0.0142\n",
            "Epoch 39/200\n",
            "4/4 [==============================] - 0s 3ms/step - loss: 0.0137\n",
            "Epoch 40/200\n",
            "4/4 [==============================] - 0s 3ms/step - loss: 0.0131\n",
            "Epoch 41/200\n",
            "4/4 [==============================] - 0s 3ms/step - loss: 0.0126\n",
            "Epoch 42/200\n",
            "4/4 [==============================] - 0s 2ms/step - loss: 0.0122\n",
            "Epoch 43/200\n",
            "4/4 [==============================] - 0s 2ms/step - loss: 0.0117\n",
            "Epoch 44/200\n",
            "4/4 [==============================] - 0s 3ms/step - loss: 0.0112\n",
            "Epoch 45/200\n",
            "4/4 [==============================] - 0s 2ms/step - loss: 0.0107\n",
            "Epoch 46/200\n",
            "4/4 [==============================] - 0s 2ms/step - loss: 0.0104\n",
            "Epoch 47/200\n",
            "4/4 [==============================] - 0s 2ms/step - loss: 0.0100\n",
            "Epoch 48/200\n",
            "4/4 [==============================] - 0s 2ms/step - loss: 0.0096\n",
            "Epoch 49/200\n",
            "4/4 [==============================] - 0s 3ms/step - loss: 0.0091\n",
            "Epoch 50/200\n",
            "4/4 [==============================] - 0s 2ms/step - loss: 0.0088\n",
            "Epoch 51/200\n",
            "4/4 [==============================] - 0s 3ms/step - loss: 0.0085\n",
            "Epoch 52/200\n",
            "4/4 [==============================] - 0s 3ms/step - loss: 0.0081\n",
            "Epoch 53/200\n",
            "4/4 [==============================] - 0s 2ms/step - loss: 0.0078\n",
            "Epoch 54/200\n",
            "4/4 [==============================] - 0s 2ms/step - loss: 0.0075\n",
            "Epoch 55/200\n",
            "4/4 [==============================] - 0s 3ms/step - loss: 0.0072\n",
            "Epoch 56/200\n",
            "4/4 [==============================] - 0s 3ms/step - loss: 0.0070\n",
            "Epoch 57/200\n",
            "4/4 [==============================] - 0s 3ms/step - loss: 0.0068\n",
            "Epoch 58/200\n",
            "4/4 [==============================] - 0s 3ms/step - loss: 0.0065\n",
            "Epoch 59/200\n",
            "4/4 [==============================] - 0s 2ms/step - loss: 0.0064\n",
            "Epoch 60/200\n",
            "4/4 [==============================] - 0s 2ms/step - loss: 0.0062\n",
            "Epoch 61/200\n",
            "4/4 [==============================] - 0s 2ms/step - loss: 0.0060\n",
            "Epoch 62/200\n",
            "4/4 [==============================] - 0s 3ms/step - loss: 0.0058\n",
            "Epoch 63/200\n",
            "4/4 [==============================] - 0s 2ms/step - loss: 0.0057\n",
            "Epoch 64/200\n",
            "4/4 [==============================] - 0s 3ms/step - loss: 0.0055\n",
            "Epoch 65/200\n",
            "4/4 [==============================] - 0s 2ms/step - loss: 0.0054\n",
            "Epoch 66/200\n",
            "4/4 [==============================] - 0s 3ms/step - loss: 0.0053\n",
            "Epoch 67/200\n",
            "4/4 [==============================] - 0s 2ms/step - loss: 0.0052\n",
            "Epoch 68/200\n",
            "4/4 [==============================] - 0s 2ms/step - loss: 0.0050\n",
            "Epoch 69/200\n",
            "4/4 [==============================] - 0s 2ms/step - loss: 0.0049\n",
            "Epoch 70/200\n",
            "4/4 [==============================] - 0s 2ms/step - loss: 0.0048\n",
            "Epoch 71/200\n",
            "4/4 [==============================] - 0s 3ms/step - loss: 0.0047\n",
            "Epoch 72/200\n",
            "4/4 [==============================] - 0s 2ms/step - loss: 0.0047\n",
            "Epoch 73/200\n",
            "4/4 [==============================] - 0s 2ms/step - loss: 0.0046\n",
            "Epoch 74/200\n",
            "4/4 [==============================] - 0s 2ms/step - loss: 0.0045\n",
            "Epoch 75/200\n",
            "4/4 [==============================] - 0s 2ms/step - loss: 0.0044\n",
            "Epoch 76/200\n",
            "4/4 [==============================] - 0s 3ms/step - loss: 0.0044\n",
            "Epoch 77/200\n",
            "4/4 [==============================] - 0s 3ms/step - loss: 0.0043\n",
            "Epoch 78/200\n",
            "4/4 [==============================] - 0s 2ms/step - loss: 0.0042\n",
            "Epoch 79/200\n",
            "4/4 [==============================] - 0s 3ms/step - loss: 0.0042\n",
            "Epoch 80/200\n",
            "4/4 [==============================] - 0s 2ms/step - loss: 0.0041\n",
            "Epoch 81/200\n",
            "4/4 [==============================] - 0s 2ms/step - loss: 0.0041\n",
            "Epoch 82/200\n",
            "4/4 [==============================] - 0s 2ms/step - loss: 0.0041\n",
            "Epoch 83/200\n",
            "4/4 [==============================] - 0s 2ms/step - loss: 0.0040\n",
            "Epoch 84/200\n",
            "4/4 [==============================] - 0s 2ms/step - loss: 0.0040\n",
            "Epoch 85/200\n",
            "4/4 [==============================] - 0s 2ms/step - loss: 0.0039\n",
            "Epoch 86/200\n",
            "4/4 [==============================] - 0s 2ms/step - loss: 0.0039\n",
            "Epoch 87/200\n",
            "4/4 [==============================] - 0s 2ms/step - loss: 0.0039\n",
            "Epoch 88/200\n",
            "4/4 [==============================] - 0s 4ms/step - loss: 0.0038\n",
            "Epoch 89/200\n",
            "4/4 [==============================] - 0s 2ms/step - loss: 0.0038\n",
            "Epoch 90/200\n",
            "4/4 [==============================] - 0s 2ms/step - loss: 0.0038\n",
            "Epoch 91/200\n",
            "4/4 [==============================] - 0s 3ms/step - loss: 0.0038\n",
            "Epoch 92/200\n",
            "4/4 [==============================] - 0s 2ms/step - loss: 0.0037\n",
            "Epoch 93/200\n",
            "4/4 [==============================] - 0s 2ms/step - loss: 0.0037\n",
            "Epoch 94/200\n",
            "4/4 [==============================] - 0s 2ms/step - loss: 0.0037\n",
            "Epoch 95/200\n",
            "4/4 [==============================] - 0s 2ms/step - loss: 0.0037\n",
            "Epoch 96/200\n",
            "4/4 [==============================] - 0s 2ms/step - loss: 0.0037\n",
            "Epoch 97/200\n",
            "4/4 [==============================] - 0s 2ms/step - loss: 0.0036\n",
            "Epoch 98/200\n",
            "4/4 [==============================] - 0s 2ms/step - loss: 0.0036\n",
            "Epoch 99/200\n",
            "4/4 [==============================] - 0s 2ms/step - loss: 0.0036\n",
            "Epoch 100/200\n",
            "4/4 [==============================] - 0s 2ms/step - loss: 0.0036\n",
            "Epoch 101/200\n",
            "4/4 [==============================] - 0s 2ms/step - loss: 0.0036\n",
            "Epoch 102/200\n",
            "4/4 [==============================] - 0s 2ms/step - loss: 0.0036\n",
            "Epoch 103/200\n",
            "4/4 [==============================] - 0s 2ms/step - loss: 0.0036\n",
            "Epoch 104/200\n",
            "4/4 [==============================] - 0s 2ms/step - loss: 0.0036\n",
            "Epoch 105/200\n",
            "4/4 [==============================] - 0s 2ms/step - loss: 0.0035\n",
            "Epoch 106/200\n",
            "4/4 [==============================] - 0s 2ms/step - loss: 0.0035\n",
            "Epoch 107/200\n",
            "4/4 [==============================] - 0s 2ms/step - loss: 0.0035\n",
            "Epoch 108/200\n",
            "4/4 [==============================] - 0s 2ms/step - loss: 0.0035\n",
            "Epoch 109/200\n",
            "4/4 [==============================] - 0s 3ms/step - loss: 0.0035\n",
            "Epoch 110/200\n",
            "4/4 [==============================] - 0s 2ms/step - loss: 0.0035\n",
            "Epoch 111/200\n",
            "4/4 [==============================] - 0s 2ms/step - loss: 0.0035\n",
            "Epoch 112/200\n",
            "4/4 [==============================] - 0s 2ms/step - loss: 0.0035\n",
            "Epoch 113/200\n",
            "4/4 [==============================] - 0s 3ms/step - loss: 0.0035\n",
            "Epoch 114/200\n",
            "4/4 [==============================] - 0s 3ms/step - loss: 0.0035\n",
            "Epoch 115/200\n",
            "4/4 [==============================] - 0s 2ms/step - loss: 0.0035\n",
            "Epoch 116/200\n",
            "4/4 [==============================] - 0s 2ms/step - loss: 0.0035\n",
            "Epoch 117/200\n",
            "4/4 [==============================] - 0s 3ms/step - loss: 0.0035\n",
            "Epoch 118/200\n",
            "4/4 [==============================] - 0s 2ms/step - loss: 0.0034\n",
            "Epoch 119/200\n",
            "4/4 [==============================] - 0s 2ms/step - loss: 0.0034\n",
            "Epoch 120/200\n",
            "4/4 [==============================] - 0s 3ms/step - loss: 0.0034\n",
            "Epoch 121/200\n",
            "4/4 [==============================] - 0s 3ms/step - loss: 0.0034\n",
            "Epoch 122/200\n",
            "4/4 [==============================] - 0s 2ms/step - loss: 0.0034\n",
            "Epoch 123/200\n",
            "4/4 [==============================] - 0s 3ms/step - loss: 0.0034\n",
            "Epoch 124/200\n",
            "4/4 [==============================] - 0s 2ms/step - loss: 0.0034\n",
            "Epoch 125/200\n",
            "4/4 [==============================] - 0s 2ms/step - loss: 0.0034\n",
            "Epoch 126/200\n",
            "4/4 [==============================] - 0s 2ms/step - loss: 0.0034\n",
            "Epoch 127/200\n",
            "4/4 [==============================] - 0s 3ms/step - loss: 0.0034\n",
            "Epoch 128/200\n",
            "4/4 [==============================] - 0s 3ms/step - loss: 0.0034\n",
            "Epoch 129/200\n",
            "4/4 [==============================] - 0s 3ms/step - loss: 0.0034\n",
            "Epoch 130/200\n",
            "4/4 [==============================] - 0s 2ms/step - loss: 0.0034\n",
            "Epoch 131/200\n",
            "4/4 [==============================] - 0s 3ms/step - loss: 0.0034\n",
            "Epoch 132/200\n",
            "4/4 [==============================] - 0s 3ms/step - loss: 0.0034\n",
            "Epoch 133/200\n",
            "4/4 [==============================] - 0s 2ms/step - loss: 0.0034\n",
            "Epoch 134/200\n",
            "4/4 [==============================] - 0s 3ms/step - loss: 0.0034\n",
            "Epoch 135/200\n",
            "4/4 [==============================] - 0s 3ms/step - loss: 0.0034\n",
            "Epoch 136/200\n",
            "4/4 [==============================] - 0s 2ms/step - loss: 0.0034\n",
            "Epoch 137/200\n",
            "4/4 [==============================] - 0s 3ms/step - loss: 0.0034\n",
            "Epoch 138/200\n",
            "4/4 [==============================] - 0s 2ms/step - loss: 0.0034\n",
            "Epoch 139/200\n",
            "4/4 [==============================] - 0s 3ms/step - loss: 0.0034\n",
            "Epoch 140/200\n",
            "4/4 [==============================] - 0s 2ms/step - loss: 0.0033\n",
            "Epoch 141/200\n",
            "4/4 [==============================] - 0s 2ms/step - loss: 0.0034\n",
            "Epoch 142/200\n",
            "4/4 [==============================] - 0s 2ms/step - loss: 0.0033\n",
            "Epoch 143/200\n",
            "4/4 [==============================] - 0s 2ms/step - loss: 0.0033\n",
            "Epoch 144/200\n",
            "4/4 [==============================] - 0s 2ms/step - loss: 0.0033\n",
            "Epoch 145/200\n",
            "4/4 [==============================] - 0s 2ms/step - loss: 0.0033\n",
            "Epoch 146/200\n",
            "4/4 [==============================] - 0s 3ms/step - loss: 0.0033\n",
            "Epoch 147/200\n",
            "4/4 [==============================] - 0s 3ms/step - loss: 0.0033\n",
            "Epoch 148/200\n",
            "4/4 [==============================] - 0s 3ms/step - loss: 0.0033\n",
            "Epoch 149/200\n",
            "4/4 [==============================] - 0s 3ms/step - loss: 0.0033\n",
            "Epoch 150/200\n",
            "4/4 [==============================] - 0s 4ms/step - loss: 0.0033\n",
            "Epoch 151/200\n",
            "4/4 [==============================] - 0s 3ms/step - loss: 0.0033\n",
            "Epoch 152/200\n",
            "4/4 [==============================] - 0s 2ms/step - loss: 0.0033\n",
            "Epoch 153/200\n",
            "4/4 [==============================] - 0s 2ms/step - loss: 0.0033\n",
            "Epoch 154/200\n",
            "4/4 [==============================] - 0s 2ms/step - loss: 0.0033\n",
            "Epoch 155/200\n",
            "4/4 [==============================] - 0s 3ms/step - loss: 0.0033\n",
            "Epoch 156/200\n",
            "4/4 [==============================] - 0s 2ms/step - loss: 0.0033\n",
            "Epoch 157/200\n",
            "4/4 [==============================] - 0s 3ms/step - loss: 0.0033\n",
            "Epoch 158/200\n",
            "4/4 [==============================] - 0s 2ms/step - loss: 0.0033\n",
            "Epoch 159/200\n",
            "4/4 [==============================] - 0s 2ms/step - loss: 0.0033\n",
            "Epoch 160/200\n",
            "4/4 [==============================] - 0s 2ms/step - loss: 0.0033\n",
            "Epoch 161/200\n",
            "4/4 [==============================] - 0s 2ms/step - loss: 0.0033\n",
            "Epoch 162/200\n",
            "4/4 [==============================] - 0s 3ms/step - loss: 0.0033\n",
            "Epoch 163/200\n",
            "4/4 [==============================] - 0s 3ms/step - loss: 0.0033\n",
            "Epoch 164/200\n",
            "4/4 [==============================] - 0s 2ms/step - loss: 0.0033\n",
            "Epoch 165/200\n",
            "4/4 [==============================] - 0s 2ms/step - loss: 0.0033\n",
            "Epoch 166/200\n",
            "4/4 [==============================] - 0s 3ms/step - loss: 0.0033\n",
            "Epoch 167/200\n",
            "4/4 [==============================] - 0s 3ms/step - loss: 0.0033\n",
            "Epoch 168/200\n",
            "4/4 [==============================] - 0s 2ms/step - loss: 0.0033\n",
            "Epoch 169/200\n",
            "4/4 [==============================] - 0s 2ms/step - loss: 0.0033\n",
            "Epoch 170/200\n",
            "4/4 [==============================] - 0s 3ms/step - loss: 0.0033\n",
            "Epoch 171/200\n",
            "4/4 [==============================] - 0s 2ms/step - loss: 0.0033\n",
            "Epoch 172/200\n",
            "4/4 [==============================] - 0s 2ms/step - loss: 0.0033\n",
            "Epoch 173/200\n",
            "4/4 [==============================] - 0s 2ms/step - loss: 0.0033\n",
            "Epoch 174/200\n",
            "4/4 [==============================] - 0s 3ms/step - loss: 0.0033\n",
            "Epoch 175/200\n",
            "4/4 [==============================] - 0s 2ms/step - loss: 0.0033\n",
            "Epoch 176/200\n",
            "4/4 [==============================] - 0s 2ms/step - loss: 0.0033\n",
            "Epoch 177/200\n",
            "4/4 [==============================] - 0s 3ms/step - loss: 0.0033\n",
            "Epoch 178/200\n",
            "4/4 [==============================] - 0s 3ms/step - loss: 0.0033\n",
            "Epoch 179/200\n",
            "4/4 [==============================] - 0s 2ms/step - loss: 0.0033\n",
            "Epoch 180/200\n",
            "4/4 [==============================] - 0s 2ms/step - loss: 0.0033\n",
            "Epoch 181/200\n",
            "4/4 [==============================] - 0s 3ms/step - loss: 0.0033\n",
            "Epoch 182/200\n",
            "4/4 [==============================] - 0s 2ms/step - loss: 0.0033\n",
            "Epoch 183/200\n",
            "4/4 [==============================] - 0s 3ms/step - loss: 0.0033\n",
            "Epoch 184/200\n",
            "4/4 [==============================] - 0s 2ms/step - loss: 0.0033\n",
            "Epoch 185/200\n",
            "4/4 [==============================] - 0s 2ms/step - loss: 0.0033\n",
            "Epoch 186/200\n",
            "4/4 [==============================] - 0s 3ms/step - loss: 0.0033\n",
            "Epoch 187/200\n",
            "4/4 [==============================] - 0s 3ms/step - loss: 0.0033\n",
            "Epoch 188/200\n",
            "4/4 [==============================] - 0s 3ms/step - loss: 0.0033\n",
            "Epoch 189/200\n",
            "4/4 [==============================] - 0s 2ms/step - loss: 0.0033\n",
            "Epoch 190/200\n",
            "4/4 [==============================] - 0s 3ms/step - loss: 0.0033\n",
            "Epoch 191/200\n",
            "4/4 [==============================] - 0s 2ms/step - loss: 0.0033\n",
            "Epoch 192/200\n",
            "4/4 [==============================] - 0s 2ms/step - loss: 0.0033\n",
            "Epoch 193/200\n",
            "4/4 [==============================] - 0s 3ms/step - loss: 0.0033\n",
            "Epoch 194/200\n",
            "4/4 [==============================] - 0s 3ms/step - loss: 0.0033\n",
            "Epoch 195/200\n",
            "4/4 [==============================] - 0s 2ms/step - loss: 0.0033\n",
            "Epoch 196/200\n",
            "4/4 [==============================] - 0s 2ms/step - loss: 0.0033\n",
            "Epoch 197/200\n",
            "4/4 [==============================] - 0s 3ms/step - loss: 0.0033\n",
            "Epoch 198/200\n",
            "4/4 [==============================] - 0s 2ms/step - loss: 0.0033\n",
            "Epoch 199/200\n",
            "4/4 [==============================] - 0s 2ms/step - loss: 0.0033\n",
            "Epoch 200/200\n",
            "4/4 [==============================] - 0s 3ms/step - loss: 0.0033\n"
          ]
        }
      ]
    },
    {
      "cell_type": "code",
      "metadata": {
        "colab": {
          "base_uri": "https://localhost:8080/"
        },
        "id": "lreOcrIOMXN3",
        "outputId": "1e0e92cd-45be-4ded-cbde-d0b7c77bf147"
      },
      "source": [
        "# encode the data\n",
        "codings = encoder.predict(X_train)\n",
        "\n",
        "# see a sample input-encoder output pair\n",
        "print(f'input point: {X_train[0]}')\n",
        "print(f'encoded point: {codings[0]}')"
      ],
      "execution_count": 7,
      "outputs": [
        {
          "output_type": "stream",
          "name": "stdout",
          "text": [
            "input point: [-0.38337689  0.1759019  -0.08955813]\n",
            "encoded point: [-0.16349962 -0.4092546 ]\n"
          ]
        }
      ]
    },
    {
      "cell_type": "code",
      "metadata": {
        "colab": {
          "base_uri": "https://localhost:8080/",
          "height": 233
        },
        "id": "SyvJPULsMd51",
        "outputId": "5c7b810a-f03c-4a6a-b44f-8008ae2eda22"
      },
      "source": [
        "# plot all encoder outputs\n",
        "fig = plt.figure(figsize=(4,3))\n",
        "plt.plot(codings[:,0], codings[:, 1], \"b.\")\n",
        "plt.xlabel(\"$z_1$\", fontsize=18)\n",
        "plt.ylabel(\"$z_2$\", fontsize=18, rotation=0)\n",
        "plt.grid(True)\n",
        "plt.show()"
      ],
      "execution_count": 8,
      "outputs": [
        {
          "output_type": "display_data",
          "data": {
            "image/png": "[encoded data removed]",
            "text/plain": [
              "<Figure size 288x216 with 1 Axes>"
            ]
          },
          "metadata": {
            "needs_background": "light"
          }
        }
      ]
    },
    {
      "cell_type": "code",
      "metadata": {
        "colab": {
          "base_uri": "https://localhost:8080/"
        },
        "id": "fXAUR8k9Mjka",
        "outputId": "eeff8e56-b5d1-4464-e318-f8f3ec5ce16b"
      },
      "source": [
        "# decode the encoder output\n",
        "decodings = decoder.predict(codings)\n",
        "\n",
        "# see a sample output for a single point\n",
        "print(f'input point: {X_train[0]}')\n",
        "print(f'encoded point: {codings[0]}')\n",
        "print(f'decoded point: {decodings[0]}')"
      ],
      "execution_count": 9,
      "outputs": [
        {
          "output_type": "stream",
          "name": "stdout",
          "text": [
            "input point: [-0.38337689  0.1759019  -0.08955813]\n",
            "encoded point: [-0.16349962 -0.4092546 ]\n",
            "decoded point: [-0.39530873  0.14764713  0.00058388]\n"
          ]
        }
      ]
    },
    {
      "cell_type": "code",
      "metadata": {
        "colab": {
          "base_uri": "https://localhost:8080/",
          "height": 248
        },
        "id": "sluNfJyRMmxJ",
        "outputId": "e04ea452-a71b-4016-969d-68696424ae26"
      },
      "source": [
        "# plot the decoder output\n",
        "ax = plt.axes(projection='3d')\n",
        "ax.scatter3D(decodings[:, 0], decodings[:, 1], decodings[:, 2], c=decodings[:, 0], cmap='Reds');"
      ],
      "execution_count": 10,
      "outputs": [
        {
          "output_type": "display_data",
          "data": {
            "image/png": "[encoded data removed]",
            "text/plain": [
              "<Figure size 432x288 with 1 Axes>"
            ]
          },
          "metadata": {
            "needs_background": "light"
          }
        }
      ]
    },
    {
      "cell_type": "code",
      "metadata": {
        "id": "tIDalLorMqru"
      },
      "source": [
        "try:\n",
        "  # %tensorflow_version only exists in Colab.\n",
        "  %tensorflow_version 2.x\n",
        "except Exception:\n",
        "  pass\n",
        "  \n",
        "import tensorflow as tf\n",
        "import tensorflow_datasets as tfds\n",
        "\n",
        "import numpy as np\n",
        "import matplotlib.pyplot as plt"
      ],
      "execution_count": 11,
      "outputs": []
    },
    {
      "cell_type": "code",
      "metadata": {
        "id": "epCeCjxINkBh"
      },
      "source": [
        "def map_image(image, label):\n",
        "  '''Normalizes and flattens the image. Returns image as input and label.'''\n",
        "  image = tf.cast(image, dtype=tf.float32)\n",
        "  image = image / 255.0\n",
        "  image = tf.reshape(image, shape=(784,))\n",
        "\n",
        "  return image, image"
      ],
      "execution_count": 12,
      "outputs": []
    },
    {
      "cell_type": "code",
      "metadata": {
        "colab": {
          "base_uri": "https://localhost:8080/",
          "height": 185,
          "referenced_widgets": [
            "19d2c74fb61c458cae9ed2fd9bdf1345",
            "9ca888d263964abe88f47f123529effb",
            "8580439322cf4250a2402df4ffb35154",
            "273613069a6749208b3b8f00c43519d9",
            "0bc8a6b1786e4099becab9727743d3e2",
            "5201db654c064f7d85465e04af0de735",
            "8aef9beb49a54147813a0a119ea71307",
            "64c06636307b4c0fb0ad024c13763578",
            "ceec0cbbb9ed4b07b4a81448588a2581",
            "ebb9d604372b414894c0d6b84e0abccc",
            "0090a106fe5040eea057c80128aa239c"
          ]
        },
        "id": "vx4ouWDtNnmy",
        "outputId": "1c8d33f6-a477-4929-9727-b060aaae02a2"
      },
      "source": [
        "# Load the train and test sets from TFDS\n",
        "\n",
        "BATCH_SIZE = 128\n",
        "SHUFFLE_BUFFER_SIZE = 1024\n",
        "\n",
        "train_dataset = tfds.load('mnist', as_supervised=True, split=\"train\")\n",
        "train_dataset = train_dataset.map(map_image)\n",
        "train_dataset = train_dataset.shuffle(SHUFFLE_BUFFER_SIZE).batch(BATCH_SIZE).repeat()\n",
        "\n",
        "test_dataset = tfds.load('mnist', as_supervised=True, split=\"test\")\n",
        "test_dataset = test_dataset.map(map_image)\n",
        "test_dataset = test_dataset.batch(BATCH_SIZE).repeat()"
      ],
      "execution_count": 13,
      "outputs": [
        {
          "output_type": "stream",
          "name": "stdout",
          "text": [
            "\u001b[1mDownloading and preparing dataset mnist/3.0.1 (download: 11.06 MiB, generated: 21.00 MiB, total: 32.06 MiB) to /root/tensorflow_datasets/mnist/3.0.1...\u001b[0m\n"
          ]
        },
        {
          "output_type": "stream",
          "name": "stderr",
          "text": [
            "WARNING:absl:Dataset mnist is hosted on GCS. It will automatically be downloaded to your\n",
            "local data directory. If you'd instead prefer to read directly from our public\n",
            "GCS bucket (recommended if you're running on GCP), you can instead pass\n",
            "`try_gcs=True` to `tfds.load` or set `data_dir=gs://tfds-data/datasets`.\n",
            "\n"
          ]
        },
        {
          "output_type": "display_data",
          "data": {
            "application/vnd.jupyter.widget-view+json": {
              "model_id": "19d2c74fb61c458cae9ed2fd9bdf1345",
              "version_minor": 0,
              "version_major": 2
            },
            "text/plain": [
              "Dl Completed...:   0%|          | 0/4 [00:00<?, ? file/s]"
            ]
          },
          "metadata": {}
        },
        {
          "output_type": "stream",
          "name": "stdout",
          "text": [
            "\n",
            "\u001b[1mDataset mnist downloaded and prepared to /root/tensorflow_datasets/mnist/3.0.1. Subsequent calls will reuse this data.\u001b[0m\n"
          ]
        }
      ]
    },
    {
      "cell_type": "code",
      "metadata": {
        "id": "EpA6MwSFNr6e"
      },
      "source": [
        "def simple_autoencoder(inputs):\n",
        "  '''Builds the encoder and decoder using Dense layers.'''\n",
        "  encoder = tf.keras.layers.Dense(units=32, activation='relu')(inputs)\n",
        "  decoder = tf.keras.layers.Dense(units=784, activation='sigmoid')(encoder)\n",
        "  \n",
        "  return encoder, decoder\n",
        "\n",
        "# set the input shape\n",
        "inputs =  tf.keras.layers.Input(shape=(784,))\n",
        "\n",
        "# get the encoder and decoder output\n",
        "encoder_output, decoder_output = simple_autoencoder(inputs)\n",
        "\n",
        "# setup the encoder because you will visualize its output later\n",
        "encoder_model = tf.keras.Model(inputs=inputs, outputs=encoder_output)\n",
        "\n",
        "# setup the autoencoder\n",
        "autoencoder_model = tf.keras.Model(inputs=inputs, outputs=decoder_output)"
      ],
      "execution_count": 14,
      "outputs": []
    },
    {
      "cell_type": "code",
      "metadata": {
        "id": "k8KErzfeNwfG"
      },
      "source": [
        "autoencoder_model.compile(\n",
        "    optimizer=tf.keras.optimizers.Adam(), \n",
        "    loss='binary_crossentropy')"
      ],
      "execution_count": 15,
      "outputs": []
    },
    {
      "cell_type": "code",
      "metadata": {
        "colab": {
          "base_uri": "https://localhost:8080/"
        },
        "id": "2_dSlyUTNzzT",
        "outputId": "1b0529ee-ad0a-495e-b8fa-a955900dcf01"
      },
      "source": [
        "train_steps = 60000 // BATCH_SIZE\n",
        "simple_auto_history = autoencoder_model.fit(train_dataset, steps_per_epoch=train_steps, epochs=50)"
      ],
      "execution_count": 16,
      "outputs": [
        {
          "output_type": "stream",
          "name": "stdout",
          "text": [
            "Epoch 1/50\n",
            "468/468 [==============================] - 5s 9ms/step - loss: 0.2276\n",
            "Epoch 2/50\n",
            "468/468 [==============================] - 2s 5ms/step - loss: 0.1399\n",
            "Epoch 3/50\n",
            "468/468 [==============================] - 2s 5ms/step - loss: 0.1182\n",
            "Epoch 4/50\n",
            "468/468 [==============================] - 2s 5ms/step - loss: 0.1069\n",
            "Epoch 5/50\n",
            "468/468 [==============================] - 2s 5ms/step - loss: 0.1008\n",
            "Epoch 6/50\n",
            "468/468 [==============================] - 2s 5ms/step - loss: 0.0974\n",
            "Epoch 7/50\n",
            "468/468 [==============================] - 2s 5ms/step - loss: 0.0957\n",
            "Epoch 8/50\n",
            "468/468 [==============================] - 2s 5ms/step - loss: 0.0949\n",
            "Epoch 9/50\n",
            "468/468 [==============================] - 2s 5ms/step - loss: 0.0944\n",
            "Epoch 10/50\n",
            "468/468 [==============================] - 2s 5ms/step - loss: 0.0940\n",
            "Epoch 11/50\n",
            "468/468 [==============================] - 2s 5ms/step - loss: 0.0938\n",
            "Epoch 12/50\n",
            "468/468 [==============================] - 2s 5ms/step - loss: 0.0936\n",
            "Epoch 13/50\n",
            "468/468 [==============================] - 2s 5ms/step - loss: 0.0935\n",
            "Epoch 14/50\n",
            "468/468 [==============================] - 2s 5ms/step - loss: 0.0934\n",
            "Epoch 15/50\n",
            "468/468 [==============================] - 2s 5ms/step - loss: 0.0933\n",
            "Epoch 16/50\n",
            "468/468 [==============================] - 2s 5ms/step - loss: 0.0932\n",
            "Epoch 17/50\n",
            "468/468 [==============================] - 2s 5ms/step - loss: 0.0932\n",
            "Epoch 18/50\n",
            "468/468 [==============================] - 2s 5ms/step - loss: 0.0931\n",
            "Epoch 19/50\n",
            "468/468 [==============================] - 2s 5ms/step - loss: 0.0930\n",
            "Epoch 20/50\n",
            "468/468 [==============================] - 2s 5ms/step - loss: 0.0930\n",
            "Epoch 21/50\n",
            "468/468 [==============================] - 2s 5ms/step - loss: 0.0930\n",
            "Epoch 22/50\n",
            "468/468 [==============================] - 2s 5ms/step - loss: 0.0930\n",
            "Epoch 23/50\n",
            "468/468 [==============================] - 2s 5ms/step - loss: 0.0929\n",
            "Epoch 24/50\n",
            "468/468 [==============================] - 2s 5ms/step - loss: 0.0929\n",
            "Epoch 25/50\n",
            "468/468 [==============================] - 2s 5ms/step - loss: 0.0929\n",
            "Epoch 26/50\n",
            "468/468 [==============================] - 2s 5ms/step - loss: 0.0929\n",
            "Epoch 27/50\n",
            "468/468 [==============================] - 2s 5ms/step - loss: 0.0928\n",
            "Epoch 28/50\n",
            "468/468 [==============================] - 2s 5ms/step - loss: 0.0928\n",
            "Epoch 29/50\n",
            "468/468 [==============================] - 2s 5ms/step - loss: 0.0928\n",
            "Epoch 30/50\n",
            "468/468 [==============================] - 2s 5ms/step - loss: 0.0928\n",
            "Epoch 31/50\n",
            "468/468 [==============================] - 2s 5ms/step - loss: 0.0928\n",
            "Epoch 32/50\n",
            "468/468 [==============================] - 2s 5ms/step - loss: 0.0927\n",
            "Epoch 33/50\n",
            "468/468 [==============================] - 2s 5ms/step - loss: 0.0927\n",
            "Epoch 34/50\n",
            "468/468 [==============================] - 2s 5ms/step - loss: 0.0927\n",
            "Epoch 35/50\n",
            "468/468 [==============================] - 2s 5ms/step - loss: 0.0927\n",
            "Epoch 36/50\n",
            "468/468 [==============================] - 2s 5ms/step - loss: 0.0927\n",
            "Epoch 37/50\n",
            "468/468 [==============================] - 2s 5ms/step - loss: 0.0927\n",
            "Epoch 38/50\n",
            "468/468 [==============================] - 2s 5ms/step - loss: 0.0927\n",
            "Epoch 39/50\n",
            "468/468 [==============================] - 2s 5ms/step - loss: 0.0927\n",
            "Epoch 40/50\n",
            "468/468 [==============================] - 2s 5ms/step - loss: 0.0926\n",
            "Epoch 41/50\n",
            "468/468 [==============================] - 2s 5ms/step - loss: 0.0927\n",
            "Epoch 42/50\n",
            "468/468 [==============================] - 2s 5ms/step - loss: 0.0926\n",
            "Epoch 43/50\n",
            "468/468 [==============================] - 2s 5ms/step - loss: 0.0927\n",
            "Epoch 44/50\n",
            "468/468 [==============================] - 2s 5ms/step - loss: 0.0926\n",
            "Epoch 45/50\n",
            "468/468 [==============================] - 2s 5ms/step - loss: 0.0926\n",
            "Epoch 46/50\n",
            "468/468 [==============================] - 2s 5ms/step - loss: 0.0926\n",
            "Epoch 47/50\n",
            "468/468 [==============================] - 2s 5ms/step - loss: 0.0926\n",
            "Epoch 48/50\n",
            "468/468 [==============================] - 2s 5ms/step - loss: 0.0926\n",
            "Epoch 49/50\n",
            "468/468 [==============================] - 2s 5ms/step - loss: 0.0926\n",
            "Epoch 50/50\n",
            "468/468 [==============================] - 2s 5ms/step - loss: 0.0925\n"
          ]
        }
      ]
    },
    {
      "cell_type": "code",
      "metadata": {
        "id": "RgVi2hNQN2xf"
      },
      "source": [
        "def display_one_row(disp_images, offset, shape=(28, 28)):\n",
        "  '''Display sample outputs in one row.'''\n",
        "  for idx, test_image in enumerate(disp_images):\n",
        "    plt.subplot(3, 10, offset + idx + 1)\n",
        "    plt.xticks([])\n",
        "    plt.yticks([])\n",
        "    test_image = np.reshape(test_image, shape)\n",
        "    plt.imshow(test_image, cmap='gray')\n",
        "\n",
        "\n",
        "def display_results(disp_input_images, disp_encoded, disp_predicted, enc_shape=(8,4)):\n",
        "  '''Displays the input, encoded, and decoded output values.'''\n",
        "  plt.figure(figsize=(15, 5))\n",
        "  display_one_row(disp_input_images, 0, shape=(28,28,))\n",
        "  display_one_row(disp_encoded, 10, shape=enc_shape)\n",
        "  display_one_row(disp_predicted, 20, shape=(28,28,))"
      ],
      "execution_count": 17,
      "outputs": []
    },
    {
      "cell_type": "code",
      "metadata": {
        "colab": {
          "base_uri": "https://localhost:8080/",
          "height": 297
        },
        "id": "FAJ7LOuBOBHq",
        "outputId": "97e592ff-8a37-4341-c60d-ab70310389a2"
      },
      "source": [
        "# take 1 batch of the dataset\n",
        "test_dataset = test_dataset.take(1)\n",
        "\n",
        "# take the input images and put them in a list\n",
        "output_samples = []\n",
        "for input_image, image in tfds.as_numpy(test_dataset):\n",
        "      output_samples = input_image\n",
        "\n",
        "# pick 10 random numbers to be used as indices to the list above\n",
        "idxs = np.random.choice(BATCH_SIZE, size=10)\n",
        "\n",
        "# get the encoder output\n",
        "encoded_predicted = encoder_model.predict(test_dataset)\n",
        "\n",
        "# get a prediction for the test batch\n",
        "simple_predicted = autoencoder_model.predict(test_dataset)\n",
        "\n",
        "# display the 10 samples, encodings and decoded values!\n",
        "display_results(output_samples[idxs], encoded_predicted[idxs], simple_predicted[idxs])"
      ],
      "execution_count": 18,
      "outputs": [
        {
          "output_type": "display_data",
          "data": {
            "image/png": "[encoded data removed]",
            "text/plain": [
              "<Figure size 1080x360 with 30 Axes>"
            ]
          },
          "metadata": {}
        }
      ]
    },
    {
      "cell_type": "code",
      "metadata": {
        "id": "ra9EPgs3OGZu"
      },
      "source": [
        "#deep auto enconder"
      ],
      "execution_count": 19,
      "outputs": []
    },
    {
      "cell_type": "code",
      "metadata": {
        "id": "0liYKEPwPF3Z"
      },
      "source": [
        "try:\n",
        "  # %tensorflow_version only exists in Colab.\n",
        "  %tensorflow_version 2.x\n",
        "except Exception:\n",
        "  pass\n",
        "  \n",
        "import tensorflow as tf\n",
        "import tensorflow_datasets as tfds\n",
        "\n",
        "import numpy as np\n",
        "import matplotlib.pyplot as plt"
      ],
      "execution_count": 20,
      "outputs": []
    },
    {
      "cell_type": "code",
      "metadata": {
        "id": "ZN4XESHiPGui"
      },
      "source": [
        "def map_image(image, label):\n",
        "  '''Normalizes and flattens the image. Returns image as input and label.'''\n",
        "  image = tf.cast(image, dtype=tf.float32)\n",
        "  image = image / 255.0\n",
        "  image = tf.reshape(image, shape=(784,))\n",
        "\n",
        "  return image, image"
      ],
      "execution_count": 21,
      "outputs": []
    },
    {
      "cell_type": "code",
      "metadata": {
        "id": "g08WeCtPPJxp"
      },
      "source": [
        "# Load the train and test sets from TFDS\n",
        "\n",
        "BATCH_SIZE = 128\n",
        "SHUFFLE_BUFFER_SIZE = 1024\n",
        "\n",
        "train_dataset = tfds.load('mnist', as_supervised=True, split=\"train\")\n",
        "train_dataset = train_dataset.map(map_image)\n",
        "train_dataset = train_dataset.shuffle(SHUFFLE_BUFFER_SIZE).batch(BATCH_SIZE).repeat()\n",
        "\n",
        "test_dataset = tfds.load('mnist', as_supervised=True, split=\"test\")\n",
        "test_dataset = test_dataset.map(map_image)\n",
        "test_dataset = test_dataset.batch(BATCH_SIZE).repeat()"
      ],
      "execution_count": 22,
      "outputs": []
    },
    {
      "cell_type": "code",
      "metadata": {
        "id": "SxNFxX0yPM0o"
      },
      "source": [
        "def deep_autoencoder():\n",
        "  '''Builds the encoder and decoder using Dense layers.'''\n",
        "  encoder = tf.keras.layers.Dense(units=128, activation='relu')(inputs)\n",
        "  encoder = tf.keras.layers.Dense(units=64, activation='relu')(encoder)\n",
        "  encoder = tf.keras.layers.Dense(units=32, activation='relu')(encoder)\n",
        "\n",
        "  decoder = tf.keras.layers.Dense(units=64, activation='relu')(encoder)\n",
        "  decoder = tf.keras.layers.Dense(units=128, activation='relu')(decoder)\n",
        "  decoder = tf.keras.layers.Dense(units=784, activation='sigmoid')(decoder)\n",
        "  \n",
        "  return encoder, decoder\n",
        "\n",
        "# set the input tensor\n",
        "inputs =  tf.keras.layers.Input(shape=(784,))\n",
        "\n",
        "# get the encoder and decoder output\n",
        "deep_encoder_output, deep_autoencoder_output = deep_autoencoder()\n",
        "\n",
        "# setup the encoder because you will visualize its output later\n",
        "deep_encoder_model = tf.keras.Model(inputs=inputs, outputs=deep_encoder_output)\n",
        "\n",
        "# setup the autoencoder\n",
        "deep_autoencoder_model = tf.keras.Model(inputs=inputs, outputs=deep_autoencoder_output)"
      ],
      "execution_count": 23,
      "outputs": []
    },
    {
      "cell_type": "code",
      "metadata": {
        "colab": {
          "base_uri": "https://localhost:8080/"
        },
        "id": "lITxsrYCPaHo",
        "outputId": "a321f81e-7896-4158-b7f5-0bbb3755acfc"
      },
      "source": [
        "train_steps = 60000 // BATCH_SIZE\n",
        "\n",
        "deep_autoencoder_model.compile(optimizer=tf.keras.optimizers.Adam(), loss='binary_crossentropy')\n",
        "deep_auto_history = deep_autoencoder_model.fit(train_dataset, steps_per_epoch=train_steps, epochs=50)"
      ],
      "execution_count": 24,
      "outputs": [
        {
          "output_type": "stream",
          "name": "stdout",
          "text": [
            "Epoch 1/50\n",
            "468/468 [==============================] - 5s 9ms/step - loss: 0.2047\n",
            "Epoch 2/50\n",
            "468/468 [==============================] - 2s 5ms/step - loss: 0.1287\n",
            "Epoch 3/50\n",
            "468/468 [==============================] - 2s 5ms/step - loss: 0.1157\n",
            "Epoch 4/50\n",
            "468/468 [==============================] - 2s 5ms/step - loss: 0.1086\n",
            "Epoch 5/50\n",
            "468/468 [==============================] - 2s 5ms/step - loss: 0.1036\n",
            "Epoch 6/50\n",
            "468/468 [==============================] - 2s 5ms/step - loss: 0.1002\n",
            "Epoch 7/50\n",
            "468/468 [==============================] - 2s 5ms/step - loss: 0.0979\n",
            "Epoch 8/50\n",
            "468/468 [==============================] - 2s 5ms/step - loss: 0.0960\n",
            "Epoch 9/50\n",
            "468/468 [==============================] - 2s 5ms/step - loss: 0.0942\n",
            "Epoch 10/50\n",
            "468/468 [==============================] - 2s 5ms/step - loss: 0.0928\n",
            "Epoch 11/50\n",
            "468/468 [==============================] - 2s 5ms/step - loss: 0.0916\n",
            "Epoch 12/50\n",
            "468/468 [==============================] - 2s 5ms/step - loss: 0.0906\n",
            "Epoch 13/50\n",
            "468/468 [==============================] - 2s 5ms/step - loss: 0.0899\n",
            "Epoch 14/50\n",
            "468/468 [==============================] - 2s 5ms/step - loss: 0.0893\n",
            "Epoch 15/50\n",
            "468/468 [==============================] - 2s 5ms/step - loss: 0.0887\n",
            "Epoch 16/50\n",
            "468/468 [==============================] - 2s 5ms/step - loss: 0.0880\n",
            "Epoch 17/50\n",
            "468/468 [==============================] - 2s 5ms/step - loss: 0.0874\n",
            "Epoch 18/50\n",
            "468/468 [==============================] - 2s 5ms/step - loss: 0.0867\n",
            "Epoch 19/50\n",
            "468/468 [==============================] - 2s 5ms/step - loss: 0.0863\n",
            "Epoch 20/50\n",
            "468/468 [==============================] - 2s 5ms/step - loss: 0.0858\n",
            "Epoch 21/50\n",
            "468/468 [==============================] - 2s 5ms/step - loss: 0.0855\n",
            "Epoch 22/50\n",
            "468/468 [==============================] - 2s 5ms/step - loss: 0.0851\n",
            "Epoch 23/50\n",
            "468/468 [==============================] - 2s 5ms/step - loss: 0.0848\n",
            "Epoch 24/50\n",
            "468/468 [==============================] - 2s 5ms/step - loss: 0.0845\n",
            "Epoch 25/50\n",
            "468/468 [==============================] - 2s 5ms/step - loss: 0.0844\n",
            "Epoch 26/50\n",
            "468/468 [==============================] - 2s 5ms/step - loss: 0.0841\n",
            "Epoch 27/50\n",
            "468/468 [==============================] - 2s 5ms/step - loss: 0.0839\n",
            "Epoch 28/50\n",
            "468/468 [==============================] - 2s 5ms/step - loss: 0.0837\n",
            "Epoch 29/50\n",
            "468/468 [==============================] - 2s 5ms/step - loss: 0.0836\n",
            "Epoch 30/50\n",
            "468/468 [==============================] - 2s 5ms/step - loss: 0.0834\n",
            "Epoch 31/50\n",
            "468/468 [==============================] - 2s 5ms/step - loss: 0.0833\n",
            "Epoch 32/50\n",
            "468/468 [==============================] - 2s 5ms/step - loss: 0.0831\n",
            "Epoch 33/50\n",
            "468/468 [==============================] - 2s 5ms/step - loss: 0.0830\n",
            "Epoch 34/50\n",
            "468/468 [==============================] - 2s 5ms/step - loss: 0.0829\n",
            "Epoch 35/50\n",
            "468/468 [==============================] - 2s 5ms/step - loss: 0.0827\n",
            "Epoch 36/50\n",
            "468/468 [==============================] - 2s 5ms/step - loss: 0.0826\n",
            "Epoch 37/50\n",
            "468/468 [==============================] - 2s 5ms/step - loss: 0.0824\n",
            "Epoch 38/50\n",
            "468/468 [==============================] - 2s 5ms/step - loss: 0.0823\n",
            "Epoch 39/50\n",
            "468/468 [==============================] - 2s 5ms/step - loss: 0.0822\n",
            "Epoch 40/50\n",
            "468/468 [==============================] - 2s 5ms/step - loss: 0.0821\n",
            "Epoch 41/50\n",
            "468/468 [==============================] - 2s 5ms/step - loss: 0.0819\n",
            "Epoch 42/50\n",
            "468/468 [==============================] - 2s 5ms/step - loss: 0.0819\n",
            "Epoch 43/50\n",
            "468/468 [==============================] - 2s 5ms/step - loss: 0.0817\n",
            "Epoch 44/50\n",
            "468/468 [==============================] - 2s 5ms/step - loss: 0.0816\n",
            "Epoch 45/50\n",
            "468/468 [==============================] - 2s 5ms/step - loss: 0.0815\n",
            "Epoch 46/50\n",
            "468/468 [==============================] - 2s 5ms/step - loss: 0.0815\n",
            "Epoch 47/50\n",
            "468/468 [==============================] - 2s 5ms/step - loss: 0.0814\n",
            "Epoch 48/50\n",
            "468/468 [==============================] - 2s 5ms/step - loss: 0.0813\n",
            "Epoch 49/50\n",
            "468/468 [==============================] - 2s 5ms/step - loss: 0.0812\n",
            "Epoch 50/50\n",
            "468/468 [==============================] - 2s 5ms/step - loss: 0.0812\n"
          ]
        }
      ]
    },
    {
      "cell_type": "code",
      "metadata": {
        "id": "TJRF6U6XPd4D"
      },
      "source": [
        "def display_one_row(disp_images, offset, shape=(28, 28)):\n",
        "  '''Display sample outputs in one row.'''\n",
        "  for idx, test_image in enumerate(disp_images):\n",
        "    plt.subplot(3, 10, offset + idx + 1)\n",
        "    plt.xticks([])\n",
        "    plt.yticks([])\n",
        "    test_image = np.reshape(test_image, shape)\n",
        "    plt.imshow(test_image, cmap='gray')\n",
        "\n",
        "\n",
        "def display_results(disp_input_images, disp_encoded, disp_predicted, enc_shape=(8,4)):\n",
        "  '''Displays the input, encoded, and decoded output values.'''\n",
        "  plt.figure(figsize=(15, 5))\n",
        "  display_one_row(disp_input_images, 0, shape=(28,28,))\n",
        "  display_one_row(disp_encoded, 10, shape=enc_shape)\n",
        "  display_one_row(disp_predicted, 20, shape=(28,28,))"
      ],
      "execution_count": 25,
      "outputs": []
    },
    {
      "cell_type": "code",
      "metadata": {
        "colab": {
          "base_uri": "https://localhost:8080/",
          "height": 385
        },
        "id": "3cCJBHIBPvl9",
        "outputId": "7584cb64-ad0f-4b9d-b066-1fb933131566"
      },
      "source": [
        "# take 1 batch of the dataset\n",
        "test_dataset = test_dataset.take(1)\n",
        "\n",
        "# take the input images and put them in a list\n",
        "output_samples = []\n",
        "for input_image, image in tfds.as_numpy(test_dataset):\n",
        "      output_samples = input_image\n",
        "\n",
        "# pick 10 random numbers to be used as indices to the list above\n",
        "idxs = np.random.choice(BATCH_SIZE, size=10)\n",
        "\n",
        "# get the encoder output\n",
        "encoded_predicted = deep_encoder_model.predict(test_dataset)\n",
        "\n",
        "# get a prediction for the test batch\n",
        "deep_predicted = deep_autoencoder_model.predict(test_dataset)\n",
        "\n",
        "# display the 10 samples, encodings and decoded values!\n",
        "display_results(output_samples[idxs], encoded_predicted[idxs], deep_predicted[idxs])"
      ],
      "execution_count": 26,
      "outputs": [
        {
          "output_type": "stream",
          "name": "stdout",
          "text": [
            "WARNING:tensorflow:5 out of the last 11 calls to <function Model.make_predict_function.<locals>.predict_function at 0x7f30cdc07680> triggered tf.function retracing. Tracing is expensive and the excessive number of tracings could be due to (1) creating @tf.function repeatedly in a loop, (2) passing tensors with different shapes, (3) passing Python objects instead of tensors. For (1), please define your @tf.function outside of the loop. For (2), @tf.function has experimental_relax_shapes=True option that relaxes argument shapes that can avoid unnecessary retracing. For (3), please refer to https://www.tensorflow.org/guide/function#controlling_retracing and https://www.tensorflow.org/api_docs/python/tf/function for  more details.\n"
          ]
        },
        {
          "output_type": "stream",
          "name": "stderr",
          "text": [
            "WARNING:tensorflow:5 out of the last 11 calls to <function Model.make_predict_function.<locals>.predict_function at 0x7f30cdc07680> triggered tf.function retracing. Tracing is expensive and the excessive number of tracings could be due to (1) creating @tf.function repeatedly in a loop, (2) passing tensors with different shapes, (3) passing Python objects instead of tensors. For (1), please define your @tf.function outside of the loop. For (2), @tf.function has experimental_relax_shapes=True option that relaxes argument shapes that can avoid unnecessary retracing. For (3), please refer to https://www.tensorflow.org/guide/function#controlling_retracing and https://www.tensorflow.org/api_docs/python/tf/function for  more details.\n"
          ]
        },
        {
          "output_type": "stream",
          "name": "stdout",
          "text": [
            "WARNING:tensorflow:6 out of the last 12 calls to <function Model.make_predict_function.<locals>.predict_function at 0x7f30f0c187a0> triggered tf.function retracing. Tracing is expensive and the excessive number of tracings could be due to (1) creating @tf.function repeatedly in a loop, (2) passing tensors with different shapes, (3) passing Python objects instead of tensors. For (1), please define your @tf.function outside of the loop. For (2), @tf.function has experimental_relax_shapes=True option that relaxes argument shapes that can avoid unnecessary retracing. For (3), please refer to https://www.tensorflow.org/guide/function#controlling_retracing and https://www.tensorflow.org/api_docs/python/tf/function for  more details.\n"
          ]
        },
        {
          "output_type": "stream",
          "name": "stderr",
          "text": [
            "WARNING:tensorflow:6 out of the last 12 calls to <function Model.make_predict_function.<locals>.predict_function at 0x7f30f0c187a0> triggered tf.function retracing. Tracing is expensive and the excessive number of tracings could be due to (1) creating @tf.function repeatedly in a loop, (2) passing tensors with different shapes, (3) passing Python objects instead of tensors. For (1), please define your @tf.function outside of the loop. For (2), @tf.function has experimental_relax_shapes=True option that relaxes argument shapes that can avoid unnecessary retracing. For (3), please refer to https://www.tensorflow.org/guide/function#controlling_retracing and https://www.tensorflow.org/api_docs/python/tf/function for  more details.\n"
          ]
        },
        {
          "output_type": "display_data",
          "data": {
            "image/png": "[encoded data removed]",
            "text/plain": [
              "<Figure size 1080x360 with 30 Axes>"
            ]
          },
          "metadata": {}
        }
      ]
    },
    {
      "cell_type": "code",
      "metadata": {
        "id": "bBai7KlQP7mm"
      },
      "source": [
        ""
      ],
      "execution_count": null,
      "outputs": []
    }
  ]
}